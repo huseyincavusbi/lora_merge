{
  "nbformat": 4,
  "nbformat_minor": 0,
  "metadata": {
    "colab": {
      "provenance": [],
      "gpuType": "T4",
      "authorship_tag": "ABX9TyOdfu+FQ3Db0kwEX7Pc6e41",
      "include_colab_link": true
    },
    "kernelspec": {
      "name": "python3",
      "display_name": "Python 3"
    },
    "language_info": {
      "name": "python"
    },
    "accelerator": "GPU"
  },
  "cells": [
    {
      "cell_type": "markdown",
      "metadata": {
        "id": "view-in-github",
        "colab_type": "text"
      },
      "source": [
        "<a href=\"https://colab.research.google.com/github/huseyincavusbi/lora_merge/blob/main/lora_merge.ipynb\" target=\"_parent\"><img src=\"https://colab.research.google.com/assets/colab-badge.svg\" alt=\"Open In Colab\"/></a>"
      ]
    },
    {
      "cell_type": "code",
      "execution_count": null,
      "metadata": {
        "id": "pPDMAR4lkY4p"
      },
      "outputs": [],
      "source": [
        "!pip install -U bitsandbytes"
      ]
    },
    {
      "cell_type": "code",
      "source": [
        "from transformers import AutoModelForCausalLM, AutoTokenizer\n",
        "from peft import PeftModel\n",
        "\n",
        "# Define the base model and LoRA adapter\n",
        "base_model_id = \"BASE_MODEL\"\n",
        "lora_adapter_id = \"ADAPTERS_REPO\"\n",
        "merged_model_id = \"MERGED_MODEL\"\n",
        "\n",
        "# Load the base model and tokenizer\n",
        "tokenizer = AutoTokenizer.from_pretrained(base_model_id)\n",
        "model = AutoModelForCausalLM.from_pretrained(\n",
        "    base_model_id,\n",
        "    torch_dtype=\"auto\",\n",
        "    device_map=\"auto\"\n",
        ")\n",
        "\n",
        "# Load the LoRA adapter and merge it with the base model\n",
        "model = PeftModel.from_pretrained(model, lora_adapter_id)\n",
        "model = model.merge_and_unload()\n",
        "\n",
        "# Push the merged model and tokenizer to the Hugging Face Hub\n",
        "# Ensure you configured your HF_TOKEN\n",
        "model.push_to_hub(merged_model_id)\n",
        "tokenizer.push_to_hub(merged_model_id)"
      ],
      "metadata": {
        "id": "4YI7WU_okbep"
      },
      "execution_count": null,
      "outputs": []
    }
  ]
}